{
  "nbformat": 4,
  "nbformat_minor": 0,
  "metadata": {
    "colab": {
      "provenance": [],
      "authorship_tag": "ABX9TyO7FT1wZEOgD2OrL1Chj8bq",
      "include_colab_link": true
    },
    "kernelspec": {
      "name": "python3",
      "display_name": "Python 3"
    },
    "language_info": {
      "name": "python"
    }
  },
  "cells": [
    {
      "cell_type": "markdown",
      "metadata": {
        "id": "view-in-github",
        "colab_type": "text"
      },
      "source": [
        "<a href=\"https://colab.research.google.com/github/Sanjay-2345/Daibetic-Retinopathy-CNN/blob/main/Daibetic_model_train.ipynb\" target=\"_parent\"><img src=\"https://colab.research.google.com/assets/colab-badge.svg\" alt=\"Open In Colab\"/></a>"
      ]
    },
    {
      "cell_type": "code",
      "execution_count": null,
      "metadata": {
        "colab": {
          "base_uri": "https://localhost:8080/"
        },
        "id": "y6vaHUl-PypV",
        "outputId": "046abff8-f39e-47aa-de43-b56813c5565c"
      },
      "outputs": [
        {
          "output_type": "stream",
          "name": "stdout",
          "text": [
            "Mounted at /content/gdrive\n"
          ]
        }
      ],
      "source": [
        "from google.colab import drive\n",
        "drive.mount('/content/gdrive')\n"
      ]
    },
    {
      "cell_type": "code",
      "source": [
        "data_path = '/content/gdrive/My Drive/diabetic_dataset'\n"
      ],
      "metadata": {
        "id": "dLcYcHM3Uvbf"
      },
      "execution_count": null,
      "outputs": []
    },
    {
      "cell_type": "code",
      "source": [
        "import tensorflow as tf\n",
        "from tensorflow.keras import layers, models\n",
        "from tensorflow.keras.preprocessing.image import ImageDataGenerator\n",
        "from tensorflow.keras.optimizers import Adam\n",
        "\n",
        "# Define constants\n",
        "IMAGE_SIZE = (224, 224)\n",
        "BATCH_SIZE = 32\n",
        "EPOCHS = 10\n",
        "\n",
        "# Create an ImageDataGenerator with data augmentation\n",
        "train_datagen = ImageDataGenerator(\n",
        "    rescale=1./255,\n",
        "    shear_range=0.2,\n",
        "    zoom_range=0.2,\n",
        "    horizontal_flip=True,\n",
        "    validation_split=0.2\n",
        ")\n",
        "\n",
        "# Load and preprocess the diabetic dataset using ImageDataGenerator\n",
        "data_path = '/content/gdrive/My Drive/diabetic_dataset'\n",
        "\n",
        "train_generator = train_datagen.flow_from_directory(\n",
        "    data_path,\n",
        "    target_size=IMAGE_SIZE,\n",
        "    batch_size=BATCH_SIZE,\n",
        "    class_mode='binary',\n",
        "    subset='training'\n",
        ")\n",
        "\n",
        "validation_generator = train_datagen.flow_from_directory(\n",
        "    data_path,\n",
        "    target_size=IMAGE_SIZE,\n",
        "    batch_size=BATCH_SIZE,\n",
        "    class_mode='binary',\n",
        "    subset='validation'\n",
        ")\n",
        "\n",
        "# Create a CNN model\n",
        "model = models.Sequential()\n",
        "model.add(layers.Conv2D(32, (3, 3), activation='relu', input_shape=(224, 224, 3)))\n",
        "model.add(layers.MaxPooling2D((2, 2)))\n",
        "model.add(layers.Conv2D(64, (3, 3), activation='relu'))\n",
        "model.add(layers.MaxPooling2D((2, 2)))\n",
        "model.add(layers.Conv2D(128, (3, 3), activation='relu'))\n",
        "model.add(layers.MaxPooling2D((2, 2)))\n",
        "model.add(layers.Flatten())\n",
        "model.add(layers.Dense(128, activation='relu'))\n",
        "model.add(layers.Dense(1, activation='sigmoid'))  # Binary classification\n",
        "\n",
        "# Compile the model\n",
        "model.compile(optimizer=Adam(learning_rate=0.001),\n",
        "              loss='binary_crossentropy',\n",
        "              metrics=['accuracy'])\n",
        "\n",
        "# Train the model\n",
        "model.fit(train_generator, epochs=EPOCHS, validation_data=validation_generator)\n",
        "\n",
        "# Save the model\n",
        "model.save('/content/gdrive/My Drive/diabetic_binary_model.h5')\n"
      ],
      "metadata": {
        "colab": {
          "base_uri": "https://localhost:8080/"
        },
        "id": "xLmRD9E8VCKf",
        "outputId": "d252e8ff-9979-41dd-dd60-f7c09d0c51e4"
      },
      "execution_count": null,
      "outputs": [
        {
          "output_type": "stream",
          "name": "stdout",
          "text": [
            "Found 132 images belonging to 2 classes.\n",
            "Found 33 images belonging to 2 classes.\n",
            "Epoch 1/10\n",
            "5/5 [==============================] - 35s 8s/step - loss: 1.2250 - accuracy: 0.6061 - val_loss: 0.6766 - val_accuracy: 0.6364\n",
            "Epoch 2/10\n",
            "5/5 [==============================] - 20s 5s/step - loss: 0.6586 - accuracy: 0.6364 - val_loss: 0.6917 - val_accuracy: 0.5455\n",
            "Epoch 3/10\n",
            "5/5 [==============================] - 20s 4s/step - loss: 0.6782 - accuracy: 0.6288 - val_loss: 0.6747 - val_accuracy: 0.6364\n",
            "Epoch 4/10\n",
            "5/5 [==============================] - 20s 5s/step - loss: 0.6589 - accuracy: 0.6364 - val_loss: 0.6462 - val_accuracy: 0.6970\n",
            "Epoch 5/10\n",
            "5/5 [==============================] - 22s 4s/step - loss: 0.6384 - accuracy: 0.6818 - val_loss: 0.6855 - val_accuracy: 0.7273\n",
            "Epoch 6/10\n",
            "5/5 [==============================] - 20s 5s/step - loss: 0.6724 - accuracy: 0.6288 - val_loss: 0.6566 - val_accuracy: 0.6970\n",
            "Epoch 7/10\n",
            "5/5 [==============================] - 21s 4s/step - loss: 0.6908 - accuracy: 0.5152 - val_loss: 0.6784 - val_accuracy: 0.6667\n",
            "Epoch 8/10\n",
            "5/5 [==============================] - 20s 4s/step - loss: 0.6842 - accuracy: 0.6364 - val_loss: 0.8229 - val_accuracy: 0.6364\n",
            "Epoch 9/10\n",
            "5/5 [==============================] - 19s 4s/step - loss: 0.6743 - accuracy: 0.6439 - val_loss: 0.6696 - val_accuracy: 0.6364\n",
            "Epoch 10/10\n",
            "5/5 [==============================] - 20s 5s/step - loss: 0.6633 - accuracy: 0.6818 - val_loss: 0.6415 - val_accuracy: 0.6667\n"
          ]
        },
        {
          "output_type": "stream",
          "name": "stderr",
          "text": [
            "/usr/local/lib/python3.10/dist-packages/keras/src/engine/training.py:3103: UserWarning: You are saving your model as an HDF5 file via `model.save()`. This file format is considered legacy. We recommend using instead the native Keras format, e.g. `model.save('my_model.keras')`.\n",
            "  saving_api.save_model(\n"
          ]
        }
      ]
    },
    {
      "cell_type": "code",
      "source": [],
      "metadata": {
        "id": "7NhevmMtVCNk"
      },
      "execution_count": null,
      "outputs": []
    }
  ]
}