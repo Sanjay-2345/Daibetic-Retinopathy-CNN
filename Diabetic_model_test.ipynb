{
  "nbformat": 4,
  "nbformat_minor": 0,
  "metadata": {
    "colab": {
      "provenance": [],
      "authorship_tag": "ABX9TyMgbm1ds4ryM+NQoahJsw1E",
      "include_colab_link": true
    },
    "kernelspec": {
      "name": "python3",
      "display_name": "Python 3"
    },
    "language_info": {
      "name": "python"
    }
  },
  "cells": [
    {
      "cell_type": "markdown",
      "metadata": {
        "id": "view-in-github",
        "colab_type": "text"
      },
      "source": [
        "<a href=\"https://colab.research.google.com/github/Sanjay-2345/Daibetic-Retinopathy-CNN/blob/main/Diabetic_model_test.ipynb\" target=\"_parent\"><img src=\"https://colab.research.google.com/assets/colab-badge.svg\" alt=\"Open In Colab\"/></a>"
      ]
    },
    {
      "cell_type": "code",
      "execution_count": null,
      "metadata": {
        "colab": {
          "base_uri": "https://localhost:8080/"
        },
        "id": "7FMsYWOUXnBF",
        "outputId": "89e09f13-b61d-4102-d8a7-238c80cdf5ec"
      },
      "outputs": [
        {
          "output_type": "stream",
          "name": "stdout",
          "text": [
            "Drive already mounted at /content/gdrive; to attempt to forcibly remount, call drive.mount(\"/content/gdrive\", force_remount=True).\n",
            "Enter the path to the new fundus image: /Diabetic_Image/186_left.jpg\n",
            "1/1 [==============================] - 0s 106ms/step\n",
            "The fundus image is classified as: Abnormal\n"
          ]
        }
      ],
      "source": [
        "from google.colab import drive\n",
        "from tensorflow.keras.models import load_model\n",
        "from tensorflow.keras.preprocessing import image\n",
        "import numpy as np\n",
        "\n",
        "# Define the image size for model input\n",
        "IMAGE_SIZE = (224, 224)\n",
        "\n",
        "# Mount Google Drive\n",
        "drive.mount('/content/gdrive')\n",
        "\n",
        "# Load the pre-trained model\n",
        "model_path = '/content/gdrive/My Drive/diabetic_binary_model.h5'\n",
        "model = load_model(model_path)\n",
        "\n",
        "# Function to classify a new fundus image\n",
        "def classify_fundus_image(image_path, model, threshold=0.5):\n",
        "    # Load and preprocess the new fundus image\n",
        "    img = image.load_img(image_path, target_size=IMAGE_SIZE)\n",
        "    img_array = image.img_to_array(img)\n",
        "    img_array = np.expand_dims(img_array, axis=0)\n",
        "    img_array /= 255.0  # Normalize pixel values to the range [0, 1]\n",
        "\n",
        "    # Make predictions\n",
        "    prediction = model.predict(img_array)\n",
        "\n",
        "    # Interpret the prediction\n",
        "    if prediction < threshold:\n",
        "        return \"Normal\"\n",
        "    else:\n",
        "        return \"Abnormal\"\n",
        "\n",
        "# User input: Provide the path to the new fundus image\n",
        "new_image_path = input(\"Enter the path to the new fundus image: \")\n",
        "\n",
        "# Ensure the path starts with \"/content/gdrive/My Drive/\"\n",
        "if not new_image_path.startswith(\"/content/gdrive/My Drive/\"):\n",
        "    new_image_path = \"/content/gdrive/My Drive/\" + new_image_path\n",
        "\n",
        "# Classify the new fundus image\n",
        "result = classify_fundus_image(new_image_path, model)\n",
        "\n",
        "# Display the result\n",
        "print(f\"The fundus image is classified as: {result}\")\n"
      ]
    }
  ]
}